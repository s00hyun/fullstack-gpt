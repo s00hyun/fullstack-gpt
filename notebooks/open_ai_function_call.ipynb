{
 "cells": [
  {
   "cell_type": "markdown",
   "metadata": {},
   "source": [
    "\n",
    "Function Calling is available for gpt-3 and gpt-4 including gpt-4o.\n",
    "https://platform.openai.com/docs/guides/function-calling\n",
    "\n",
    "*Structured Outputs are available since gpt-4o\n",
    "https://platform.openai.com/docs/guides/structured-outputs/introduction"
   ]
  },
  {
   "cell_type": "code",
   "execution_count": 14,
   "metadata": {},
   "outputs": [],
   "source": [
    "from langchain.chat_models import ChatOpenAI\n",
    "from langchain.prompts import PromptTemplate"
   ]
  },
  {
   "cell_type": "code",
   "execution_count": 5,
   "metadata": {},
   "outputs": [],
   "source": [
    "\n",
    "function = {\n",
    "    \"name\": \"create_quiz\",\n",
    "    \"description\": \"function that takes a list of questions and answers and returns a quiz\",\n",
    "    \"parameters\": {\n",
    "        \"type\": \"object\",\n",
    "        \"properties\": {\n",
    "            \"questions\": {\n",
    "                \"type\": \"array\",\n",
    "                \"items\": {\n",
    "                    \"type\": \"object\",\n",
    "                    \"properties\": {\n",
    "                        \"question\": {\n",
    "                            \"type\": \"string\",\n",
    "                        },\n",
    "                        \"answers\": {\n",
    "                            \"type\": \"array\",\n",
    "                            \"items\": {\n",
    "                                \"type\": \"object\",\n",
    "                                \"properties\": {\n",
    "                                    \"answer\": {\n",
    "                                        \"type\": \"string\",\n",
    "                                    },\n",
    "                                    \"correct\": {\n",
    "                                        \"type\": \"boolean\",\n",
    "                                    },\n",
    "                                },\n",
    "                                \"required\": [\"answer\", \"correct\"],\n",
    "                            },\n",
    "                        },\n",
    "                    },\n",
    "                    \"required\": [\"question\", \"answers\"]\n",
    "                },\n",
    "            }\n",
    "        },\n",
    "        \"required\": [\"questions\"],\n",
    "    }\n",
    "}"
   ]
  },
  {
   "cell_type": "code",
   "execution_count": 9,
   "metadata": {},
   "outputs": [],
   "source": [
    "llm = ChatOpenAI(temperature=0.1).bind(\n",
    "    function_call={\"name\": \"create_quiz\"},\n",
    "    functions=[function],\n",
    ")\n",
    "\n",
    "prompt = PromptTemplate.from_template(\"Make a quiz about {city}\")\n",
    "chain = prompt | llm\n",
    "response = chain.invoke({\"city\": \"Seoul\"})"
   ]
  },
  {
   "cell_type": "markdown",
   "metadata": {},
   "source": []
  },
  {
   "cell_type": "code",
   "execution_count": 10,
   "metadata": {},
   "outputs": [
    {
     "data": {
      "text/plain": [
       "AIMessage(content='', additional_kwargs={'function_call': {'name': 'create_quiz', 'arguments': '{\"questions\":[{\"question\":\"What is the capital city of South Korea?\",\"answers\":[{\"answer\":\"Busan\",\"correct\":false},{\"answer\":\"Seoul\",\"correct\":true},{\"answer\":\"Incheon\",\"correct\":false}]},{\"question\":\"Which river flows through Seoul?\",\"answers\":[{\"answer\":\"Han River\",\"correct\":true},{\"answer\":\"Nakdong River\",\"correct\":false},{\"answer\":\"Geum River\",\"correct\":false}]},{\"question\":\"What is the name of the famous palace in Seoul?\",\"answers\":[{\"answer\":\"Gyeongbokgung Palace\",\"correct\":true},{\"answer\":\"Changdeokgung Palace\",\"correct\":false},{\"answer\":\"Deoksugung Palace\",\"correct\":false}]}]}'}})"
      ]
     },
     "execution_count": 10,
     "metadata": {},
     "output_type": "execute_result"
    }
   ],
   "source": [
    "response"
   ]
  },
  {
   "cell_type": "code",
   "execution_count": 12,
   "metadata": {},
   "outputs": [
    {
     "data": {
      "text/plain": [
       "'{\"questions\":[{\"question\":\"What is the capital city of South Korea?\",\"answers\":[{\"answer\":\"Busan\",\"correct\":false},{\"answer\":\"Seoul\",\"correct\":true},{\"answer\":\"Incheon\",\"correct\":false}]},{\"question\":\"Which river flows through Seoul?\",\"answers\":[{\"answer\":\"Han River\",\"correct\":true},{\"answer\":\"Nakdong River\",\"correct\":false},{\"answer\":\"Geum River\",\"correct\":false}]},{\"question\":\"What is the name of the famous palace in Seoul?\",\"answers\":[{\"answer\":\"Gyeongbokgung Palace\",\"correct\":true},{\"answer\":\"Changdeokgung Palace\",\"correct\":false},{\"answer\":\"Deoksugung Palace\",\"correct\":false}]}]}'"
      ]
     },
     "execution_count": 12,
     "metadata": {},
     "output_type": "execute_result"
    }
   ],
   "source": [
    "\n",
    "response = response.additional_kwargs[\"function_call\"][\"arguments\"]\n",
    "response"
   ]
  },
  {
   "cell_type": "code",
   "execution_count": 13,
   "metadata": {},
   "outputs": [
    {
     "name": "stdout",
     "output_type": "stream",
     "text": [
      "{'question': 'What is the capital city of South Korea?', 'answers': [{'answer': 'Busan', 'correct': False}, {'answer': 'Seoul', 'correct': True}, {'answer': 'Incheon', 'correct': False}]}\n",
      "{'question': 'Which river flows through Seoul?', 'answers': [{'answer': 'Han River', 'correct': True}, {'answer': 'Nakdong River', 'correct': False}, {'answer': 'Geum River', 'correct': False}]}\n",
      "{'question': 'What is the name of the famous palace in Seoul?', 'answers': [{'answer': 'Gyeongbokgung Palace', 'correct': True}, {'answer': 'Changdeokgung Palace', 'correct': False}, {'answer': 'Deoksugung Palace', 'correct': False}]}\n"
     ]
    }
   ],
   "source": [
    "import json\n",
    "\n",
    "for question in json.loads(response)[\"questions\"]:\n",
    "    print(question)"
   ]
  }
 ],
 "metadata": {
  "kernelspec": {
   "display_name": "env",
   "language": "python",
   "name": "python3"
  },
  "language_info": {
   "codemirror_mode": {
    "name": "ipython",
    "version": 3
   },
   "file_extension": ".py",
   "mimetype": "text/x-python",
   "name": "python",
   "nbconvert_exporter": "python",
   "pygments_lexer": "ipython3",
   "version": "3.11.6"
  }
 },
 "nbformat": 4,
 "nbformat_minor": 2
}
